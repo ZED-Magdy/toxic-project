{
 "cells": [
  {
   "cell_type": "code",
   "execution_count": 1,
   "metadata": {},
   "outputs": [],
   "source": [
    "import numpy as np\n",
    "import pandas as pd\n",
    "from scipy import io\n",
    "from sklearn.metrics import roc_auc_score\n",
    "from sklearn.ensemble import RandomForestClassifier\n",
    "\n",
    "y_tr = pd.read_csv('datasets/tox21_labels_train.csv.gz',\n",
    "                   index_col=0, compression=\"gzip\")\n",
    "y_te = pd.read_csv('datasets/tox21_labels_test.csv.gz', index_col=0, compression=\"gzip\")\n",
    "x_tr_dense = pd.read_csv('datasets/tox21_dense_train.csv.gz',\n",
    "                         index_col=0, compression=\"gzip\").values\n",
    "x_te_dense = pd.read_csv('datasets/tox21_dense_test.csv.gz',\n",
    "                         index_col=0, compression=\"gzip\").values\n",
    "x_tr_sparse = io.mmread('datasets/tox21_sparse_train.mtx.gz').tocsc()\n",
    "x_te_sparse = io.mmread('datasets/tox21_sparse_test.mtx.gz').tocsc()\n",
    "\n",
    "sparse_col_idx = ((x_tr_sparse > 0).mean(0) > 0.05).A.ravel()\n",
    "x_tr = np.hstack([x_tr_dense, x_tr_sparse[:, sparse_col_idx].A])\n",
    "x_te = np.hstack([x_te_dense, x_te_sparse[:, sparse_col_idx].A])\n"
   ]
  },
  {
   "cell_type": "code",
   "execution_count": 2,
   "metadata": {},
   "outputs": [
    {
     "name": "stdout",
     "output_type": "stream",
     "text": [
      "         NR.AhR: 0.90218\n",
      "          NR.AR: 0.74303\n",
      "      NR.AR.LBD: 0.72398\n",
      "   NR.Aromatase: 0.79453\n",
      "          NR.ER: 0.76740\n",
      "      NR.ER.LBD: 0.77168\n",
      "  NR.PPAR.gamma: 0.71847\n",
      "         SR.ARE: 0.77049\n",
      "       SR.ATAD5: 0.80648\n",
      "         SR.HSE: 0.79669\n",
      "         SR.MMP: 0.92329\n",
      "         SR.p53: 0.78562\n"
     ]
    }
   ],
   "source": [
    "for target in y_tr.columns:\n",
    "    rows_tr = np.isfinite(y_tr[target]).values\n",
    "    rows_te = np.isfinite(y_te[target]).values\n",
    "    rf = RandomForestClassifier(n_estimators=100,  n_jobs=4)\n",
    "    rf.fit(x_tr[rows_tr], y_tr[target][rows_tr])\n",
    "    p_te = rf.predict_proba(x_te[rows_te])\n",
    "    auc_te = roc_auc_score(y_te[target][rows_te], p_te[:, 1])\n",
    "    print(\"%15s: %3.5f\" % (target, auc_te))\n"
   ]
  }
 ],
 "metadata": {
  "interpreter": {
   "hash": "916dbcbb3f70747c44a77c7bcd40155683ae19c65e1c03b4aa3499c5328201f1"
  },
  "kernelspec": {
   "display_name": "Python 3.8.10 64-bit",
   "name": "python3"
  },
  "language_info": {
   "codemirror_mode": {
    "name": "ipython",
    "version": 3
   },
   "file_extension": ".py",
   "mimetype": "text/x-python",
   "name": "python",
   "nbconvert_exporter": "python",
   "pygments_lexer": "ipython3",
   "version": "3.8.10"
  },
  "orig_nbformat": 4
 },
 "nbformat": 4,
 "nbformat_minor": 2
}
